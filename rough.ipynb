{
 "cells": [
  {
   "cell_type": "code",
   "execution_count": 3,
   "id": "98363f1b-f47c-46cd-ac35-2ce3fafd84d9",
   "metadata": {
    "tags": []
   },
   "outputs": [
    {
     "name": "stdout",
     "output_type": "stream",
     "text": [
      "hello world\n"
     ]
    }
   ],
   "source": [
    "print(\"hello world\")"
   ]
  },
  {
   "cell_type": "code",
   "execution_count": 4,
   "id": "1e5157b1-153b-419d-8dc0-abfbd681f103",
   "metadata": {
    "tags": []
   },
   "outputs": [
    {
     "name": "stdout",
     "output_type": "stream",
     "text": [
      "['False', 'None', 'True', 'and', 'as', 'assert', 'async', 'await', 'break', 'class', 'continue', 'def', 'del', 'elif', 'else', 'except', 'finally', 'for', 'from', 'global', 'if', 'import', 'in', 'is', 'lambda', 'nonlocal', 'not', 'or', 'pass', 'raise', 'return', 'try', 'while', 'with', 'yield']\n"
     ]
    }
   ],
   "source": [
    "import keyword\n",
    "print(keyword.kwlist)"
   ]
  },
  {
   "cell_type": "code",
   "execution_count": 6,
   "id": "5594e934-acbf-41c1-9b3c-41b7e278ad1a",
   "metadata": {
    "tags": []
   },
   "outputs": [],
   "source": [
    "x = [1,2,\"hello\", 12.5]"
   ]
  },
  {
   "cell_type": "code",
   "execution_count": 8,
   "id": "3eb4a5da-04aa-444c-be92-f68e11605732",
   "metadata": {
    "tags": []
   },
   "outputs": [
    {
     "data": {
      "text/plain": [
       "[1, 2, 'hello', 12.5, 5]"
      ]
     },
     "execution_count": 8,
     "metadata": {},
     "output_type": "execute_result"
    }
   ],
   "source": [
    "x.append(5)\n",
    "x"
   ]
  },
  {
   "cell_type": "code",
   "execution_count": 14,
   "id": "fd1685b8-d8a5-48da-a4d9-b45ae1abac99",
   "metadata": {
    "tags": []
   },
   "outputs": [],
   "source": [
    "x.remove(\"hello\")"
   ]
  },
  {
   "cell_type": "code",
   "execution_count": 16,
   "id": "9dd09062-2864-439d-a715-748d67a4bdbf",
   "metadata": {
    "tags": []
   },
   "outputs": [
    {
     "data": {
      "text/plain": [
       "[1, 2, 12.5, 5]"
      ]
     },
     "execution_count": 16,
     "metadata": {},
     "output_type": "execute_result"
    }
   ],
   "source": [
    "x"
   ]
  },
  {
   "cell_type": "code",
   "execution_count": 18,
   "id": "01095084-68a8-492b-acbf-fa891cd09872",
   "metadata": {
    "tags": []
   },
   "outputs": [
    {
     "data": {
      "text/plain": [
       "list"
      ]
     },
     "execution_count": 18,
     "metadata": {},
     "output_type": "execute_result"
    }
   ],
   "source": [
    "type(x)"
   ]
  },
  {
   "cell_type": "code",
   "execution_count": 20,
   "id": "428bd6f5-1a4d-4ddc-8d43-330a4b8b7052",
   "metadata": {
    "tags": []
   },
   "outputs": [],
   "source": [
    "y = (1,2,3,4,5)"
   ]
  },
  {
   "cell_type": "code",
   "execution_count": 22,
   "id": "05635929-a01c-439c-8911-2c27c9dcce60",
   "metadata": {
    "tags": []
   },
   "outputs": [
    {
     "data": {
      "text/plain": [
       "3"
      ]
     },
     "execution_count": 22,
     "metadata": {},
     "output_type": "execute_result"
    }
   ],
   "source": [
    "y[2]"
   ]
  },
  {
   "cell_type": "code",
   "execution_count": 30,
   "id": "21c7a9d1-41e0-4522-bce6-e91fe12e9363",
   "metadata": {
    "tags": []
   },
   "outputs": [
    {
     "data": {
      "text/plain": [
       "1"
      ]
     },
     "execution_count": 30,
     "metadata": {},
     "output_type": "execute_result"
    }
   ],
   "source": [
    "y.count(2)"
   ]
  },
  {
   "cell_type": "code",
   "execution_count": 32,
   "id": "96642efb-438d-406b-b0cd-bbd23472bb2f",
   "metadata": {
    "tags": []
   },
   "outputs": [
    {
     "data": {
      "text/plain": [
       "2"
      ]
     },
     "execution_count": 32,
     "metadata": {},
     "output_type": "execute_result"
    }
   ],
   "source": [
    "y.index(3)"
   ]
  },
  {
   "cell_type": "code",
   "execution_count": 34,
   "id": "27ad5bd7-d6e2-49ba-85de-c5288206c216",
   "metadata": {
    "tags": []
   },
   "outputs": [
    {
     "name": "stdout",
     "output_type": "stream",
     "text": [
      "(1, 2, 3, 4)\n"
     ]
    }
   ],
   "source": [
    "x=[1,2,3,4]\n",
    "y=tuple(x)\n",
    "print(y)"
   ]
  },
  {
   "cell_type": "code",
   "execution_count": 6,
   "id": "953c72b6-6af2-4efc-ac7d-994ca3fc0f8d",
   "metadata": {},
   "outputs": [
    {
     "name": "stdout",
     "output_type": "stream",
     "text": [
      "x is positive\n"
     ]
    }
   ],
   "source": [
    "x=10\n",
    "if x>0:\n",
    "    print(\"x is positive\")"
   ]
  },
  {
   "cell_type": "code",
   "execution_count": 8,
   "id": "f155adb8-3f06-4382-bfb7-26ce885d9ff2",
   "metadata": {
    "tags": []
   },
   "outputs": [],
   "source": [
    "x=-10\n",
    "if x>0:\n",
    "    print(\"x is positive\")"
   ]
  },
  {
   "cell_type": "code",
   "execution_count": 3,
   "id": "f20105d7-c735-46bc-99a9-1874a5d1763c",
   "metadata": {},
   "outputs": [
    {
     "name": "stdout",
     "output_type": "stream",
     "text": [
      "x is negative\n"
     ]
    }
   ],
   "source": [
    "x=-10\n",
    "if x>0:\n",
    "    print(\"x is positive\")\n",
    "else:\n",
    "    print(\"x is negative\")"
   ]
  },
  {
   "cell_type": "code",
   "execution_count": 4,
   "id": "bf2d7890",
   "metadata": {},
   "outputs": [
    {
     "name": "stdout",
     "output_type": "stream",
     "text": [
      "x is zero\n"
     ]
    }
   ],
   "source": [
    "x = 0\n",
    "if x > 0:\n",
    "    print(\"x is positive\")\n",
    "elif x == 0:\n",
    "    print(\"x is zero\")\n",
    "else:\n",
    "    print(\"x is negative\")"
   ]
  },
  {
   "cell_type": "code",
   "execution_count": 6,
   "id": "b52ab730",
   "metadata": {},
   "outputs": [
    {
     "name": "stdout",
     "output_type": "stream",
     "text": [
      "apple\n",
      "banana\n",
      "cherry\n"
     ]
    }
   ],
   "source": [
    "fruits = [\"apple\", \"banana\", \"cherry\"]\n",
    "for i in fruits:\n",
    "    print(i)"
   ]
  },
  {
   "cell_type": "code",
   "execution_count": 8,
   "id": "e14f5d11",
   "metadata": {},
   "outputs": [
    {
     "name": "stdout",
     "output_type": "stream",
     "text": [
      "3\n",
      "4\n",
      "5\n",
      "6\n",
      "7\n",
      "8\n",
      "9\n"
     ]
    }
   ],
   "source": [
    "count = 3\n",
    "while count<10:\n",
    "    print(count)\n",
    "    count += 1"
   ]
  },
  {
   "cell_type": "code",
   "execution_count": 9,
   "id": "31c3fd29",
   "metadata": {},
   "outputs": [
    {
     "name": "stdout",
     "output_type": "stream",
     "text": [
      "apple\n",
      "banana\n"
     ]
    }
   ],
   "source": [
    "fruits = [\"apple\", \"banana\", \"cherry\"]\n",
    "for i in fruits:\n",
    "    print(i)\n",
    "    if i == \"banana\":\n",
    "        break"
   ]
  },
  {
   "cell_type": "code",
   "execution_count": 11,
   "id": "a056f4c3",
   "metadata": {},
   "outputs": [
    {
     "name": "stdout",
     "output_type": "stream",
     "text": [
      "apple\n",
      "banana\n",
      "dragaon fruit\n"
     ]
    }
   ],
   "source": [
    "fruits = [\"apple\", \"banana\", \"cherry\", \"dragaon fruit\"]\n",
    "for i in fruits:\n",
    "    if i == \"cherry\":\n",
    "        continue\n",
    "    print(i)"
   ]
  },
  {
   "cell_type": "code",
   "execution_count": 12,
   "id": "1bf9e36c",
   "metadata": {},
   "outputs": [
    {
     "name": "stdout",
     "output_type": "stream",
     "text": [
      "[1, 4, 9, 16, 25]\n"
     ]
    }
   ],
   "source": [
    "a = [1, 2, 3, 4, 5]\n",
    "b = []\n",
    "for i in a:\n",
    "    b.append(i**2)\n",
    "print(b)"
   ]
  },
  {
   "cell_type": "code",
   "execution_count": 14,
   "id": "7082c818",
   "metadata": {},
   "outputs": [
    {
     "data": {
      "text/plain": [
       "[1, 4, 9, 16, 25, 36, 49, 64, 81, 100]"
      ]
     },
     "execution_count": 14,
     "metadata": {},
     "output_type": "execute_result"
    }
   ],
   "source": [
    "x = [1, 2, 3, 4, 5, 6, 7, 8, 9, 10]\n",
    "y = [i**2 for i in x]\n",
    "y"
   ]
  },
  {
   "cell_type": "code",
   "execution_count": 16,
   "id": "95515643",
   "metadata": {},
   "outputs": [
    {
     "data": {
      "text/plain": [
       "[4, 16, 36, 64, 100]"
      ]
     },
     "execution_count": 16,
     "metadata": {},
     "output_type": "execute_result"
    }
   ],
   "source": [
    "z = [i**2 for i in x if i%2==0]\n",
    "z"
   ]
  },
  {
   "cell_type": "code",
   "execution_count": 5,
   "id": "9eca28f4",
   "metadata": {},
   "outputs": [],
   "source": [
    "def greet(name):\n",
    "    print(f\"Hello {name}!!\")"
   ]
  },
  {
   "cell_type": "code",
   "execution_count": 6,
   "id": "1098ecf0",
   "metadata": {},
   "outputs": [
    {
     "name": "stdout",
     "output_type": "stream",
     "text": [
      "Hello Ganeshu!!\n"
     ]
    }
   ],
   "source": [
    "greet(\"Ganeshu\")"
   ]
  },
  {
   "cell_type": "code",
   "execution_count": 7,
   "id": "21c77700",
   "metadata": {},
   "outputs": [
    {
     "name": "stdout",
     "output_type": "stream",
     "text": [
      "Hello Ganeshu!!\n"
     ]
    }
   ],
   "source": [
    "out = greet(\"Ganeshu\")"
   ]
  },
  {
   "cell_type": "code",
   "execution_count": 8,
   "id": "cd1bc7d2",
   "metadata": {},
   "outputs": [
    {
     "name": "stdout",
     "output_type": "stream",
     "text": [
      "None\n"
     ]
    }
   ],
   "source": [
    "print(out)"
   ]
  },
  {
   "cell_type": "code",
   "execution_count": 9,
   "id": "0a0fd5b9",
   "metadata": {},
   "outputs": [],
   "source": [
    "def add_numbers(a,b):\n",
    "    result = a+b\n",
    "    return result"
   ]
  },
  {
   "cell_type": "code",
   "execution_count": 10,
   "id": "fe2c7f31",
   "metadata": {},
   "outputs": [],
   "source": [
    "out = add_numbers(10,20)"
   ]
  },
  {
   "cell_type": "code",
   "execution_count": 11,
   "id": "a9741724",
   "metadata": {},
   "outputs": [
    {
     "name": "stdout",
     "output_type": "stream",
     "text": [
      "30\n"
     ]
    }
   ],
   "source": [
    "print(out)"
   ]
  },
  {
   "cell_type": "code",
   "execution_count": 3,
   "id": "0641be65",
   "metadata": {},
   "outputs": [],
   "source": [
    "def add_number(a, b=25): \n",
    "    result = a+b\n",
    "    return result"
   ]
  },
  {
   "cell_type": "code",
   "execution_count": 5,
   "id": "6b96d3f3",
   "metadata": {},
   "outputs": [
    {
     "data": {
      "text/plain": [
       "35"
      ]
     },
     "execution_count": 5,
     "metadata": {},
     "output_type": "execute_result"
    }
   ],
   "source": [
    "add_number(10)  # b=25 is set default in function parameter itself"
   ]
  },
  {
   "cell_type": "code",
   "execution_count": 6,
   "id": "786700f3",
   "metadata": {},
   "outputs": [],
   "source": [
    "def add_numbers(a=22, b=25):\n",
    "    result = a+b\n",
    "    return result"
   ]
  },
  {
   "cell_type": "code",
   "execution_count": 7,
   "id": "7353f3f0",
   "metadata": {},
   "outputs": [
    {
     "data": {
      "text/plain": [
       "47"
      ]
     },
     "execution_count": 7,
     "metadata": {},
     "output_type": "execute_result"
    }
   ],
   "source": [
    "add_numbers()"
   ]
  },
  {
   "cell_type": "code",
   "execution_count": 8,
   "id": "e1b4c932",
   "metadata": {},
   "outputs": [
    {
     "data": {
      "text/plain": [
       "30"
      ]
     },
     "execution_count": 8,
     "metadata": {},
     "output_type": "execute_result"
    }
   ],
   "source": [
    "add_numbers(10,20)"
   ]
  },
  {
   "cell_type": "code",
   "execution_count": 27,
   "id": "bfb9690c",
   "metadata": {},
   "outputs": [
    {
     "name": "stdout",
     "output_type": "stream",
     "text": [
      "Hey Ganeshu, welcome to the class!\n"
     ]
    }
   ],
   "source": [
    "import variable\n",
    "\n",
    "variable.greet(\"Ganeshu\")"
   ]
  },
  {
   "cell_type": "code",
   "execution_count": 19,
   "id": "ea186143",
   "metadata": {},
   "outputs": [],
   "source": [
    "import variable\n",
    "\n",
    "def category(age):\n",
    "    if age == variable.age:\n",
    "        print (f\"You belong to general category\")\n",
    "    else:\n",
    "        print(\"you belong to schedule cast\")"
   ]
  },
  {
   "cell_type": "code",
   "execution_count": 20,
   "id": "e8a5cee7",
   "metadata": {},
   "outputs": [
    {
     "name": "stdout",
     "output_type": "stream",
     "text": [
      "You belong to general category\n"
     ]
    }
   ],
   "source": [
    "category(25)"
   ]
  },
  {
   "cell_type": "code",
   "execution_count": 21,
   "id": "7810d101",
   "metadata": {},
   "outputs": [
    {
     "name": "stdout",
     "output_type": "stream",
     "text": [
      "you belong to schedule cast\n"
     ]
    }
   ],
   "source": [
    "category(30)"
   ]
  },
  {
   "cell_type": "code",
   "execution_count": 25,
   "id": "c769efff",
   "metadata": {},
   "outputs": [
    {
     "name": "stdout",
     "output_type": "stream",
     "text": [
      "25\n"
     ]
    }
   ],
   "source": [
    "from variable import age\n",
    "age\n",
    "print(age) "
   ]
  },
  {
   "cell_type": "code",
   "execution_count": 1,
   "id": "d1f9d1b2",
   "metadata": {},
   "outputs": [],
   "source": [
    "class MyClass:\n",
    "\n",
    "    class_variable = \"This is class variable\"\n",
    "\n",
    "    def __init__(self, attribute1, attribute2):\n",
    "        # Instance variable\n",
    "        self.attribute1 = attribute1\n",
    "        self.attribute2 = attribute2\n",
    "\n",
    "    def display_attribute(self):\n",
    "        print(f\"This is attribute1: {self.attribute1}\")\n",
    "        print(f\"This is attribute2: {self.attribute2}\")\n",
    "\n",
    "    def modify_attribute(self, new_value1, new_value2):\n",
    "        self.attribute1 = new_value1\n",
    "        self.attribute2 = new_value2"
   ]
  },
  {
   "cell_type": "code",
   "execution_count": 3,
   "id": "0df33da4",
   "metadata": {},
   "outputs": [],
   "source": [
    "obj = MyClass(\"Surabhi\", \"Shivani\")"
   ]
  },
  {
   "cell_type": "code",
   "execution_count": 4,
   "id": "a9a0d74c",
   "metadata": {},
   "outputs": [
    {
     "data": {
      "text/plain": [
       "'Surabhi'"
      ]
     },
     "execution_count": 4,
     "metadata": {},
     "output_type": "execute_result"
    }
   ],
   "source": [
    "obj.attribute1"
   ]
  },
  {
   "cell_type": "code",
   "execution_count": 5,
   "id": "3d4c5ec9",
   "metadata": {},
   "outputs": [
    {
     "data": {
      "text/plain": [
       "'Shivani'"
      ]
     },
     "execution_count": 5,
     "metadata": {},
     "output_type": "execute_result"
    }
   ],
   "source": [
    "obj.attribute2"
   ]
  },
  {
   "cell_type": "code",
   "execution_count": 6,
   "id": "165c6ec1",
   "metadata": {},
   "outputs": [],
   "source": [
    "obj.modify_attribute(\"Saurabh\", \"Ganeshu\")"
   ]
  },
  {
   "cell_type": "code",
   "execution_count": 7,
   "id": "9ea821e6",
   "metadata": {},
   "outputs": [
    {
     "data": {
      "text/plain": [
       "'Saurabh'"
      ]
     },
     "execution_count": 7,
     "metadata": {},
     "output_type": "execute_result"
    }
   ],
   "source": [
    "obj.attribute1"
   ]
  },
  {
   "cell_type": "code",
   "execution_count": 8,
   "id": "2537a522",
   "metadata": {},
   "outputs": [
    {
     "data": {
      "text/plain": [
       "'Ganeshu'"
      ]
     },
     "execution_count": 8,
     "metadata": {},
     "output_type": "execute_result"
    }
   ],
   "source": [
    "obj.attribute2"
   ]
  },
  {
   "cell_type": "code",
   "execution_count": 9,
   "id": "d5135a2d",
   "metadata": {},
   "outputs": [
    {
     "name": "stdout",
     "output_type": "stream",
     "text": [
      "This is attribute1: Saurabh\n",
      "This is attribute2: Ganeshu\n"
     ]
    }
   ],
   "source": [
    "obj.display_attribute()"
   ]
  },
  {
   "cell_type": "code",
   "execution_count": 14,
   "id": "74148387",
   "metadata": {},
   "outputs": [],
   "source": [
    "example_txt = \"\"\"fileobj = open(example.txt, wt)\n",
    "    fileobj = file object returned by open()\n",
    "    filename = String name or file\n",
    "    mode = string indicating the file's type and what we want to perform\n",
    "\n",
    "First letter of mode indicates operation:\n",
    "    r = means read.\n",
    "    w = means write. If the file does not exists, it will be created. If already exists it will be over-written.\n",
    "    x = means write, but only if file does not exists.\n",
    "    a = means append (write after the end) if file exists.\n",
    "\n",
    "Second letter of mode is file's type:\n",
    "    t (or nothing) = means text.\n",
    "    b = means binary.\n",
    "\n",
    "Close the file once write is complete.\n",
    "fileobj.close()\n",
    "\"\"\""
   ]
  },
  {
   "cell_type": "code",
   "execution_count": 15,
   "id": "5238c243",
   "metadata": {},
   "outputs": [],
   "source": [
    "fileobj = open(\"example.txt\", \"wt\")\n",
    "fileobj.write(example_txt)\n",
    "fileobj.close()"
   ]
  },
  {
   "cell_type": "code",
   "execution_count": null,
   "id": "01a1a41f",
   "metadata": {},
   "outputs": [],
   "source": []
  }
 ],
 "metadata": {
  "kernelspec": {
   "display_name": "Python 3 (ipykernel)",
   "language": "python",
   "name": "python3"
  },
  "language_info": {
   "codemirror_mode": {
    "name": "ipython",
    "version": 3
   },
   "file_extension": ".py",
   "mimetype": "text/x-python",
   "name": "python",
   "nbconvert_exporter": "python",
   "pygments_lexer": "ipython3",
   "version": "3.11.7"
  }
 },
 "nbformat": 4,
 "nbformat_minor": 5
}
